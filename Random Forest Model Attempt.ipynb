{
 "cells": [
  {
   "cell_type": "code",
   "execution_count": 4,
   "id": "6b76e088",
   "metadata": {},
   "outputs": [
    {
     "name": "stdout",
     "output_type": "stream",
     "text": [
      "Libraries Imported\n"
     ]
    }
   ],
   "source": [
    "#STANDARD IMPORTS\n",
    "import pandas as pd\n",
    "import numpy as np\n",
    "from sklearn.model_selection import train_test_split\n",
    "from sklearn.preprocessing import StandardScaler\n",
    "from sklearn.ensemble import RandomForestClassifier\n",
    "from sklearn.metrics import confusion_matrix\n",
    "from sklearn.externals import joblib\n",
    "print('Libraries Imported')"
   ]
  },
  {
   "cell_type": "code",
   "execution_count": 9,
   "id": "4d69b84d",
   "metadata": {},
   "outputs": [],
   "source": [
    "#REFORMAT THE DF\n",
    "df = pd.read_csv(r\"C:\\Users\\flytr\\Downloads\\Data Files\\newPFAS.csv\")\n",
    "df = df.loc[:,df.columns!=\"Unnamed: 0\"]\n",
    "df = df.dropna()\n",
    "df.reset_index(drop=True, inplace=True)\n",
    "df.rename(columns={'N_D_MINOR_PER_MEAN': 'MINOR_PER', 'N_D_INCOME_PER_MEAN': 'INCOME_PER','N_D_LESSHS_PER_MEAN': 'LESSHS_PER', 'N_D_UNEMPLOYED_PER_MEAN': 'UNEMPLOYED_PER','N_D_INDEX_PER_MEAN': 'INDEX_PER'}, inplace=True)"
   ]
  },
  {
   "cell_type": "code",
   "execution_count": null,
   "id": "70c5d96b",
   "metadata": {},
   "outputs": [],
   "source": []
  }
 ],
 "metadata": {
  "kernelspec": {
   "display_name": "Python 3 (ipykernel)",
   "language": "python",
   "name": "python3"
  },
  "language_info": {
   "codemirror_mode": {
    "name": "ipython",
    "version": 3
   },
   "file_extension": ".py",
   "mimetype": "text/x-python",
   "name": "python",
   "nbconvert_exporter": "python",
   "pygments_lexer": "ipython3",
   "version": "3.7.3"
  }
 },
 "nbformat": 4,
 "nbformat_minor": 5
}
